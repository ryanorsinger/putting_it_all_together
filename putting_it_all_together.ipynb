{
 "cells": [
  {
   "cell_type": "code",
   "execution_count": 1,
   "metadata": {},
   "outputs": [],
   "source": [
    "students = [\n",
    "    {\n",
    "        \"id\": \"100001\",\n",
    "        \"student\": \"Ada Lovelace\",\n",
    "        \"coffee_preference\": \"light\",\n",
    "        \"course\": \"web development\",\n",
    "        \"grades\": [70, 91, 82, 71],\n",
    "        \"pets\": [{\"species\": \"horse\", \"age\": 8}],\n",
    "    },\n",
    "    {\n",
    "        \"id\": \"100002\",\n",
    "        \"student\": \"Thomas Bayes\",\n",
    "        \"coffee_preference\": \"medium\",\n",
    "        \"course\": \"data science\",\n",
    "        \"grades\": [75, 73, 86, 100],\n",
    "        \"pets\": [],\n",
    "    },\n",
    "    {\n",
    "        \"id\": \"100003\",\n",
    "        \"student\": \"Marie Curie\",\n",
    "        \"coffee_preference\": \"light\",\n",
    "        \"course\": \"web development\",\n",
    "        \"grades\": [70, 89, 69, 65],\n",
    "        \"pets\": [{\"species\": \"cat\", \"age\": 0}],\n",
    "    },\n",
    "    {\n",
    "        \"id\": \"100004\",\n",
    "        \"student\": \"Grace Hopper\",\n",
    "        \"coffee_preference\": \"dark\",\n",
    "        \"course\": \"data science\",\n",
    "        \"grades\": [73, 66, 83, 92],\n",
    "        \"pets\": [{\"species\": \"dog\", \"age\": 4}, {\"species\": \"cat\", \"age\": 4}],\n",
    "    },\n",
    "    {\n",
    "        \"id\": \"100005\",\n",
    "        \"student\": \"Alan Turing\",\n",
    "        \"coffee_preference\": \"dark\",\n",
    "        \"course\": \"web development\",\n",
    "        \"grades\": [78, 98, 85, 65],\n",
    "        \"pets\": [\n",
    "            {\"species\": \"horse\", \"age\": 6},\n",
    "            {\"species\": \"horse\", \"age\": 7},\n",
    "            {\"species\": \"dog\", \"age\": 5},\n",
    "        ],\n",
    "    },\n",
    "    {\n",
    "        \"id\": \"100006\",\n",
    "        \"student\": \"Rosalind Franklin\",\n",
    "        \"coffee_preference\": \"dark\",\n",
    "        \"course\": \"data science\",\n",
    "        \"grades\": [76, 70, 96, 81],\n",
    "        \"pets\": [],\n",
    "    },\n",
    "    {\n",
    "        \"id\": \"100007\",\n",
    "        \"student\": \"Elizabeth Blackwell\",\n",
    "        \"coffee_preference\": \"dark\",\n",
    "        \"course\": \"web development\",\n",
    "        \"grades\": [69, 94, 89, 86],\n",
    "        \"pets\": [{\"species\": \"cat\", \"age\": 10}],\n",
    "    },\n",
    "    {\n",
    "        \"id\": \"100008\",\n",
    "        \"student\": \"Rene Descartes\",\n",
    "        \"coffee_preference\": \"medium\",\n",
    "        \"course\": \"data science\",\n",
    "        \"grades\": [87, 79, 90, 99],\n",
    "        \"pets\": [{\"species\": \"cat\", \"age\": 10}, {\"species\": \"cat\", \"age\": 8}],\n",
    "    },\n",
    "    {\n",
    "        \"id\": \"100009\",\n",
    "        \"student\": \"Ahmed Zewail\",\n",
    "        \"coffee_preference\": \"medium\",\n",
    "        \"course\": \"data science\",\n",
    "        \"grades\": [74, 99, 93, 89],\n",
    "        \"pets\": [{\"species\": \"cat\", \"age\": 0}, {\"species\": \"cat\", \"age\": 0}],\n",
    "    },\n",
    "    {\n",
    "        \"id\": \"100010\",\n",
    "        \"student\": \"Chien-Shiung Wu\",\n",
    "        \"coffee_preference\": \"medium\",\n",
    "        \"course\": \"web development\",\n",
    "        \"grades\": [82, 92, 91, 65],\n",
    "        \"pets\": [{\"species\": \"cat\", \"age\": 8}],\n",
    "    },\n",
    "    {\n",
    "        \"id\": \"100011\",\n",
    "        \"student\": \"William Sanford Nye\",\n",
    "        \"coffee_preference\": \"dark\",\n",
    "        \"course\": \"data science\",\n",
    "        \"grades\": [70, 92, 65, 99],\n",
    "        \"pets\": [{\"species\": \"cat\", \"age\": 8}, {\"species\": \"cat\", \"age\": 5}],\n",
    "    },\n",
    "    {\n",
    "        \"id\": \"100012\",\n",
    "        \"student\": \"Carl Sagan\",\n",
    "        \"coffee_preference\": \"medium\",\n",
    "        \"course\": \"data science\",\n",
    "        \"grades\": [100, 86, 91, 87],\n",
    "        \"pets\": [{\"species\": \"cat\", \"age\": 10}],\n",
    "    },\n",
    "    {\n",
    "        \"id\": \"100013\",\n",
    "        \"student\": \"Jane Goodall\",\n",
    "        \"coffee_preference\": \"light\",\n",
    "        \"course\": \"web development\",\n",
    "        \"grades\": [80, 70, 68, 98],\n",
    "        \"pets\": [{\"species\": \"horse\", \"age\": 4}],\n",
    "    },\n",
    "    {\n",
    "        \"id\": \"100014\",\n",
    "        \"student\": \"Richard Feynman\",\n",
    "        \"coffee_preference\": \"medium\",\n",
    "        \"course\": \"web development\",\n",
    "        \"grades\": [73, 99, 86, 98],\n",
    "        \"pets\": [{\"species\": \"dog\", \"age\": 6}],\n",
    "    },\n",
    "]"
   ]
  },
  {
   "cell_type": "code",
   "execution_count": null,
   "metadata": {},
   "outputs": [],
   "source": [
    "# One weird trick to solving looping problems\n",
    "# Blow off the loop."
   ]
  },
  {
   "cell_type": "code",
   "execution_count": null,
   "metadata": {},
   "outputs": [],
   "source": [
    "# What is the average grade for students with 0 pets?"
   ]
  },
  {
   "cell_type": "code",
   "execution_count": null,
   "metadata": {},
   "outputs": [],
   "source": [
    "# Break the problem down into your natural language (whatever language you think in)\n",
    "\n",
    "# What if you had a programmer in your back pocket, and all you have to do is tell them in English what to do.\\\n",
    "\n",
    "# Filter out only the students w/o pets\n",
    "# Sum up all of the grades\n",
    "# divide by the number of grades to get the average"
   ]
  },
  {
   "cell_type": "code",
   "execution_count": 2,
   "metadata": {},
   "outputs": [
    {
     "data": {
      "text/plain": [
       "{'id': '100002',\n",
       " 'student': 'Thomas Bayes',\n",
       " 'coffee_preference': 'medium',\n",
       " 'course': 'data science',\n",
       " 'grades': [75, 73, 86, 100],\n",
       " 'pets': []}"
      ]
     },
     "execution_count": 2,
     "metadata": {},
     "output_type": "execute_result"
    }
   ],
   "source": [
    "# Let's solve PART of the problem\n",
    "student = students[1]\n",
    "student"
   ]
  },
  {
   "cell_type": "code",
   "execution_count": null,
   "metadata": {},
   "outputs": [],
   "source": [
    "# Solve a simpler problem by:\n",
    "# 1. Blow off the loop\n",
    "# 2. Focus on a single item from that list of things\n",
    "# 3. Solve part of the original problem for just that one single instance..."
   ]
  },
  {
   "cell_type": "code",
   "execution_count": 7,
   "metadata": {},
   "outputs": [
    {
     "data": {
      "text/plain": [
       "[75, 73, 86, 100]"
      ]
     },
     "execution_count": 7,
     "metadata": {},
     "output_type": "execute_result"
    }
   ],
   "source": [
    "# sum all of the grades\n",
    "# determine how many grades we have\n",
    "# calculate the average\n",
    "student[\"grades\"]"
   ]
  },
  {
   "cell_type": "code",
   "execution_count": 8,
   "metadata": {},
   "outputs": [
    {
     "data": {
      "text/plain": [
       "334"
      ]
     },
     "execution_count": 8,
     "metadata": {},
     "output_type": "execute_result"
    }
   ],
   "source": [
    "sum(student[\"grades\"])"
   ]
  },
  {
   "cell_type": "code",
   "execution_count": 6,
   "metadata": {},
   "outputs": [
    {
     "data": {
      "text/plain": [
       "4"
      ]
     },
     "execution_count": 6,
     "metadata": {},
     "output_type": "execute_result"
    }
   ],
   "source": [
    "len(student[\"grades\"])"
   ]
  },
  {
   "cell_type": "code",
   "execution_count": 9,
   "metadata": {},
   "outputs": [
    {
     "data": {
      "text/plain": [
       "334"
      ]
     },
     "execution_count": 9,
     "metadata": {},
     "output_type": "execute_result"
    }
   ],
   "source": [
    "# When the heck do you need to make a new variable?\n",
    "# Whenever you want to hold on to value and give it a name\n",
    "grade_total = sum(student[\"grades\"])\n",
    "grade_total"
   ]
  },
  {
   "cell_type": "code",
   "execution_count": 11,
   "metadata": {},
   "outputs": [
    {
     "data": {
      "text/plain": [
       "4"
      ]
     },
     "execution_count": 11,
     "metadata": {},
     "output_type": "execute_result"
    }
   ],
   "source": [
    "# Let's make a new variable\n",
    "# Make a new variable WHENEVER YOU NEED A NOUN TO HANG ON TO\n",
    "# How do you know when the problem solving process NEEDS a new noun? \n",
    "# Your directions in English will have a noun\n",
    "number_of_grades = len(student[\"grades\"])\n",
    "number_of_grades"
   ]
  },
  {
   "cell_type": "code",
   "execution_count": 12,
   "metadata": {},
   "outputs": [
    {
     "data": {
      "text/plain": [
       "83.5"
      ]
     },
     "execution_count": 12,
     "metadata": {},
     "output_type": "execute_result"
    }
   ],
   "source": [
    "average_grade = grade_total / number_of_grades\n",
    "average_grade"
   ]
  },
  {
   "cell_type": "code",
   "execution_count": 14,
   "metadata": {},
   "outputs": [
    {
     "data": {
      "text/plain": [
       "{'id': '100002',\n",
       " 'student': 'Thomas Bayes',\n",
       " 'coffee_preference': 'medium',\n",
       " 'course': 'data science',\n",
       " 'grades': [75, 73, 86, 100],\n",
       " 'pets': []}"
      ]
     },
     "execution_count": 14,
     "metadata": {},
     "output_type": "execute_result"
    }
   ],
   "source": [
    "student"
   ]
  },
  {
   "cell_type": "code",
   "execution_count": 18,
   "metadata": {},
   "outputs": [],
   "source": [
    "# But what about the pets part, where the number of pets has to be zero\n",
    "# Play the game, \"spot the noun\" or \"spot the noun phrase\"\n",
    "# Once you spot the noun, create the variable for it.\n",
    "# Figure out how to get the value assigned properly from the data\n",
    "# number_of_pets = student[\"pets\"]\n",
    "# number_of_pets"
   ]
  },
  {
   "cell_type": "code",
   "execution_count": 17,
   "metadata": {},
   "outputs": [
    {
     "data": {
      "text/plain": [
       "0"
      ]
     },
     "execution_count": 17,
     "metadata": {},
     "output_type": "execute_result"
    }
   ],
   "source": [
    "# oops, we have an empty list.. let's do a quick search: \"How to count the number of items in a list in python\"\n",
    "number_of_pets = len(student[\"pets\"])\n",
    "number_of_pets"
   ]
  },
  {
   "cell_type": "code",
   "execution_count": 20,
   "metadata": {},
   "outputs": [
    {
     "name": "stdout",
     "output_type": "stream",
     "text": [
      "83.5\n"
     ]
    }
   ],
   "source": [
    "# When do you know when to add an IF condition to your code?\n",
    "# If your directions in English have an \"if\", then your Python will have an if.\n",
    "# Use an if when you want to isolate something\n",
    "# Use an if when you need to compare things\n",
    "# If there's no \"otherwise\" in your English, there's no Else.\n",
    "\n",
    "# Compare the number of pets\n",
    "number_of_pets = len(student[\"pets\"])\n",
    "\n",
    "if number_of_pets == 0:\n",
    "    \n",
    "    # Sum up all the grades together\n",
    "    grade_total = sum(student[\"grades\"])\n",
    "    \n",
    "    # Figure out how many grades there are\n",
    "    number_of_grades = len(student[\"grades\"])\n",
    "    \n",
    "    # Divide the total by the number of grades, and we get the average grade.\n",
    "    average_grade = grade_total / number_of_grades\n",
    "    \n",
    "    print(average_grade)\n"
   ]
  },
  {
   "cell_type": "code",
   "execution_count": 23,
   "metadata": {},
   "outputs": [],
   "source": [
    "## When do you need a new function??\n",
    "## Play \"spot the verb\" with your problem\n",
    "## Play \"spot the verb phrase\"\n",
    "## Create a function with that verb phrase name\n",
    "\n",
    "def get_the_average_grade(student):\n",
    "    assert type(student) == dict\n",
    "    assert type(student[\"grades\"]) == list\n",
    "    \n",
    "    # Sum up all the grades together\n",
    "    grade_total = sum(student[\"grades\"])\n",
    "    \n",
    "    # Figure out how many grades there are\n",
    "    number_of_grades = len(student[\"grades\"])\n",
    "    \n",
    "    # Divide the total by the number of grades, and we get the average grade.\n",
    "    average_grade = grade_total / number_of_grades\n",
    "    \n",
    "    return average_grade"
   ]
  },
  {
   "cell_type": "code",
   "execution_count": 22,
   "metadata": {},
   "outputs": [
    {
     "data": {
      "text/plain": [
       "{'id': '100002',\n",
       " 'student': 'Thomas Bayes',\n",
       " 'coffee_preference': 'medium',\n",
       " 'course': 'data science',\n",
       " 'grades': [75, 73, 86, 100],\n",
       " 'pets': []}"
      ]
     },
     "execution_count": 22,
     "metadata": {},
     "output_type": "execute_result"
    }
   ],
   "source": [
    "student"
   ]
  },
  {
   "cell_type": "code",
   "execution_count": 24,
   "metadata": {},
   "outputs": [
    {
     "data": {
      "text/plain": [
       "83.5"
      ]
     },
     "execution_count": 24,
     "metadata": {},
     "output_type": "execute_result"
    }
   ],
   "source": [
    "get_the_average_grade(student)"
   ]
  },
  {
   "cell_type": "code",
   "execution_count": 26,
   "metadata": {},
   "outputs": [
    {
     "name": "stdout",
     "output_type": "stream",
     "text": [
      "83.5\n"
     ]
    }
   ],
   "source": [
    "if len(student[\"pets\"]) == 0:\n",
    "    \n",
    "    print(get_the_average_grade(student))\n",
    "    "
   ]
  },
  {
   "cell_type": "code",
   "execution_count": null,
   "metadata": {},
   "outputs": [],
   "source": [
    "## So now let's run this process for 2 students from the list...\n",
    "## We're still blowing off the loop\n"
   ]
  },
  {
   "cell_type": "code",
   "execution_count": 30,
   "metadata": {},
   "outputs": [],
   "source": [
    "student0 = students[0]\n",
    "student1 = students[1]"
   ]
  },
  {
   "cell_type": "code",
   "execution_count": 28,
   "metadata": {},
   "outputs": [
    {
     "data": {
      "text/plain": [
       "{'id': '100001',\n",
       " 'student': 'Ada Lovelace',\n",
       " 'coffee_preference': 'light',\n",
       " 'course': 'web development',\n",
       " 'grades': [70, 91, 82, 71],\n",
       " 'pets': [{'species': 'horse', 'age': 8}]}"
      ]
     },
     "execution_count": 28,
     "metadata": {},
     "output_type": "execute_result"
    }
   ],
   "source": [
    "student0"
   ]
  },
  {
   "cell_type": "code",
   "execution_count": 31,
   "metadata": {},
   "outputs": [
    {
     "data": {
      "text/plain": [
       "{'id': '100002',\n",
       " 'student': 'Thomas Bayes',\n",
       " 'coffee_preference': 'medium',\n",
       " 'course': 'data science',\n",
       " 'grades': [75, 73, 86, 100],\n",
       " 'pets': []}"
      ]
     },
     "execution_count": 31,
     "metadata": {},
     "output_type": "execute_result"
    }
   ],
   "source": [
    "student1"
   ]
  },
  {
   "cell_type": "code",
   "execution_count": 32,
   "metadata": {},
   "outputs": [
    {
     "data": {
      "text/plain": [
       "78.5"
      ]
     },
     "execution_count": 32,
     "metadata": {},
     "output_type": "execute_result"
    }
   ],
   "source": [
    "get_the_average_grade(student0)"
   ]
  },
  {
   "cell_type": "code",
   "execution_count": 33,
   "metadata": {},
   "outputs": [
    {
     "data": {
      "text/plain": [
       "83.5"
      ]
     },
     "execution_count": 33,
     "metadata": {},
     "output_type": "execute_result"
    }
   ],
   "source": [
    "get_the_average_grade(student1)"
   ]
  },
  {
   "cell_type": "code",
   "execution_count": 34,
   "metadata": {},
   "outputs": [],
   "source": [
    "## Add one more layer to the problem solving process\n",
    "## \"Add one more layer\" means \"add another level of verb-identification\"\n",
    "def get_avg_grade_from_no_pet_student(student):\n",
    "    number_of_pets = len(student[\"pets\"]) \n",
    "    if number_of_pets == 0:\n",
    "        return get_the_average_grade(student)"
   ]
  },
  {
   "cell_type": "code",
   "execution_count": 37,
   "metadata": {},
   "outputs": [],
   "source": [
    "get_avg_grade_from_no_pet_student(student0)"
   ]
  },
  {
   "cell_type": "code",
   "execution_count": 38,
   "metadata": {},
   "outputs": [
    {
     "data": {
      "text/plain": [
       "NoneType"
      ]
     },
     "execution_count": 38,
     "metadata": {},
     "output_type": "execute_result"
    }
   ],
   "source": [
    "type(get_avg_grade_from_no_pet_student(student0))"
   ]
  },
  {
   "cell_type": "code",
   "execution_count": 39,
   "metadata": {},
   "outputs": [
    {
     "data": {
      "text/plain": [
       "83.5"
      ]
     },
     "execution_count": 39,
     "metadata": {},
     "output_type": "execute_result"
    }
   ],
   "source": [
    "get_avg_grade_from_no_pet_student(student1)"
   ]
  },
  {
   "cell_type": "code",
   "execution_count": 41,
   "metadata": {},
   "outputs": [],
   "source": [
    "get_avg_grade_from_no_pet_student(students[2])"
   ]
  },
  {
   "cell_type": "code",
   "execution_count": 42,
   "metadata": {},
   "outputs": [
    {
     "name": "stdout",
     "output_type": "stream",
     "text": [
      "None\n",
      "83.5\n",
      "None\n",
      "None\n",
      "None\n",
      "80.75\n",
      "None\n",
      "None\n",
      "None\n",
      "None\n",
      "None\n",
      "None\n",
      "None\n",
      "None\n"
     ]
    }
   ],
   "source": [
    "# Once you've got a solution that works on a single item from the list\n",
    "# Now, you can loop.\n",
    "for student in students:\n",
    "    print(get_avg_grade_from_no_pet_student(student))"
   ]
  },
  {
   "cell_type": "markdown",
   "metadata": {},
   "source": [
    "## Build up your verbs as layers of a pyramid\n",
    "- Our simplest verbs are operators. They are verbs that work on nouns and give us back a new noun.\n",
    "    - `+` adds two numbers and returns a new number..\n",
    "    - `-`\n",
    "    - `*`\n",
    "    - `/`\n",
    "    - `and`\n",
    "    - `not`\n",
    "    - `or`\n",
    "    - `in`\n",
    "- Next simplest verbs are built-in functions\n",
    "    - `len()`\n",
    "    - `type()`\n",
    "    - `sum()`\n",
    "    - `max()`\n",
    "\n",
    "- A higher layer is combining operators and built-in functions into user-defined functions\n",
    "\n",
    "- Lather, rinse, repeat\n",
    "\n",
    "- Your highest level function should be:\n",
    "\n",
    "    ```\n",
    "    def solve_the_entire_problem(inputs):\n",
    "        result = first_part_of_problem(inputs)\n",
    "        output = second_part_of_problem(result)\n",
    "        return output\n",
    "    ```    \n",
    "- Each layer is less english more code (from outside in)\n",
    "- Each layer is more code less english (the closer you are to the bottom of the pyramid)\n",
    "    \n"
   ]
  },
  {
   "cell_type": "code",
   "execution_count": 59,
   "metadata": {},
   "outputs": [
    {
     "ename": "ZeroDivisionError",
     "evalue": "division by zero",
     "output_type": "error",
     "traceback": [
      "\u001b[0;31m---------------------------------------------------------------------------\u001b[0m",
      "\u001b[0;31mZeroDivisionError\u001b[0m                         Traceback (most recent call last)",
      "\u001b[0;32m<ipython-input-59-96a49a575e6f>\u001b[0m in \u001b[0;36m<module>\u001b[0;34m\u001b[0m\n\u001b[1;32m     10\u001b[0m \u001b[0;34m\u001b[0m\u001b[0m\n\u001b[1;32m     11\u001b[0m \u001b[0;34m\u001b[0m\u001b[0m\n\u001b[0;32m---> 12\u001b[0;31m     \u001b[0mtotal\u001b[0m \u001b[0;34m/\u001b[0m \u001b[0mnumber_of_no_pet_students\u001b[0m\u001b[0;34m\u001b[0m\u001b[0;34m\u001b[0m\u001b[0m\n\u001b[0m",
      "\u001b[0;31mZeroDivisionError\u001b[0m: division by zero"
     ]
    }
   ],
   "source": [
    "# for student in students:\n",
    "#     grades = 0\n",
    "#     number_of_no_pet_students = 0\n",
    "#     total = 0\n",
    "\n",
    "#     if len(student[\"pets\"]) == 0:\n",
    "#         number_of_no_pet_students +=1 \n",
    "#         avg = get_the_average_grade(student)\n",
    "#         total += avg\n",
    "    \n",
    "        \n",
    "#     total / number_of_no_pet_students"
   ]
  },
  {
   "cell_type": "markdown",
   "metadata": {},
   "source": [
    "## Looks like I hit a roadblock with the above approach\n",
    "- If we hit a road-block, disassemble part of our pyramid and rebuild\n",
    "- This is possible and MUCH easier when you've already built different pieces of the pyramid"
   ]
  },
  {
   "cell_type": "code",
   "execution_count": 58,
   "metadata": {},
   "outputs": [
    {
     "name": "stdout",
     "output_type": "stream",
     "text": [
      "Sum of all grades for students with no pets 657\n",
      "Number of students with no pets 8\n",
      "Average grade of all students w/ no pets 82.125\n"
     ]
    }
   ],
   "source": [
    "## If we hit a road-block, disassemble part of our pyramid and rebuild\n",
    "number_of_grades_from_no_pet_students = 0\n",
    "sum_of_all_grades = 0\n",
    "\n",
    "for student in students:\n",
    "    if len(student[\"pets\"]) == 0:\n",
    "        student_grades = student[\"grades\"]\n",
    "        number_of_grades_from_no_pet_students += len(student[\"grades\"])\n",
    "        sum_of_this_students_grades = sum(student_grades)\n",
    "        sum_of_all_grades += sum_of_this_students_grades\n",
    "\n",
    "average_grade_of_no_pet_students = sum_of_all_grades / number_of_grades_from_no_pet_students\n",
    "        \n",
    "print(f\"Sum of all grades for students with no pets {sum_of_all_grades}\")    \n",
    "print(f\"Number of students with no pets {number_of_grades_from_no_pet_students}\")\n",
    "\n",
    "\n",
    "print(f\"Average grade of all students w/ no pets {average_grade_of_no_pet_students}\")"
   ]
  },
  {
   "cell_type": "code",
   "execution_count": null,
   "metadata": {},
   "outputs": [],
   "source": []
  },
  {
   "cell_type": "code",
   "execution_count": null,
   "metadata": {},
   "outputs": [],
   "source": []
  },
  {
   "cell_type": "code",
   "execution_count": null,
   "metadata": {},
   "outputs": [],
   "source": []
  }
 ],
 "metadata": {
  "kernelspec": {
   "display_name": "Python 3",
   "language": "python",
   "name": "python3"
  },
  "language_info": {
   "codemirror_mode": {
    "name": "ipython",
    "version": 3
   },
   "file_extension": ".py",
   "mimetype": "text/x-python",
   "name": "python",
   "nbconvert_exporter": "python",
   "pygments_lexer": "ipython3",
   "version": "3.7.3"
  }
 },
 "nbformat": 4,
 "nbformat_minor": 4
}
